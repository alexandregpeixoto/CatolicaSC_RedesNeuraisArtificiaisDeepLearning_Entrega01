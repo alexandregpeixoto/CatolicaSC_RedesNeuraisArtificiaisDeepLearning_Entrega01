{
 "cells": [
  {
   "cell_type": "markdown",
   "metadata": {},
   "source": [
    "O modelo de neurônio de McCulloch e Pitts é um dos primeiros e mais simples modelos de neurônios artificiais. Foi introduzido por Warren McCulloch, um neurocientista, e Walter Pitts, um lógico, em 1943. Este modelo foi fundamental para o desenvolvimento da neurociência computacional e das redes neurais artificiais.\n",
    "\n",
    "---\n",
    "\n",
    "## Modelo de Neurônio de McCulloch e Pitts\n",
    "\n",
    "O modelo de neurônio de McCulloch e Pitts é uma abstração matemática do funcionamento dos neurônios biológicos. Ele tenta capturar a essência do processo de decisão dos neurônios, considerando as entradas que recebem e a saída que geram.\n",
    "\n",
    "### Estrutura\n",
    "\n",
    "O modelo consiste basicamente em:\n",
    "- **Entradas**: Simulam os dendritos de um neurônio biológico, recebendo sinais de outros neurônios.\n",
    "- **Pesos**: Associados a cada entrada, simulam a força da conexão sináptica.\n",
    "- **Soma**: Um somatório das entradas ponderadas pelos respectivos pesos.\n",
    "- **Função de Ativação**: Uma função limiar que determina se o neurônio deve \"disparar\" ou não, baseada no somatório ponderado.\n",
    "\n",
    "### Funcionamento\n",
    "\n",
    "1. **Soma Ponderada**: O modelo calcula a soma das entradas multiplicadas pelos seus respectivos pesos.\n",
    "   $ f(x) = \\sum_{i=1}^{n} w_i x_i $\n",
    "   onde $x_i$ são as entradas, $w_i$ são os pesos, e $n$ é o número de entradas.\n",
    "\n",
    "2. **Ativação**: O resultado da soma ponderada é então comparado com um limiar $\\theta$. Se o resultado for maior que o limiar, o neurônio produz uma saída de 1 (dispara); caso contrário, a saída é 0.\n",
    "   $$ y = \\begin{cases}\n",
    "   1 & \\text{se } f(x) > \\theta \\\\\n",
    "   0 & \\text{caso contrário}\n",
    "   \\end{cases} $$\n",
    "\n",
    "### Significado\n",
    "\n",
    "- O modelo de McCulloch e Pitts foi revolucionário por propor que as funções cerebrais complexas poderiam ser realizadas por circuitos de elementos de processamento simples.\n",
    "- É capaz de realizar operações lógicas básicas como AND, OR e NOT, servindo como base para a computação e processamento de informações complexas.\n",
    "\n",
    "### Limitações\n",
    "\n",
    "- O modelo é extremamente simplificado e não leva em conta a natureza dinâmica e adaptativa dos neurônios biológicos.\n",
    "- Não modela aspectos como potenciais de ação variáveis, plasticidade sináptica ou a rica dinâmica de redes neurais reais.\n",
    "\n",
    "### Conclusão\n",
    "\n",
    "Apesar de suas limitações, o modelo de McCulloch e Pitts é um marco fundamental na história da inteligência artificial e das redes neurais, lançando as bases para o desenvolvimento posterior de modelos mais complexos e eficazes de computação neural.\n",
    "\n",
    "---"
   ]
  },
  {
   "cell_type": "code",
   "execution_count": 20,
   "metadata": {},
   "outputs": [
    {
     "name": "stdout",
     "output_type": "stream",
     "text": [
      "McCulloch-Pitts Neuron(weights=[1, 1], threshold=2)\n",
      "Input: [0, 0], Output: 0\n",
      "Input: [0, 1], Output: 0\n",
      "Input: [1, 0], Output: 0\n",
      "Input: [1, 1], Output: 1\n"
     ]
    }
   ],
   "source": [
    "class McCullochPittsNeuron:\n",
    "    def __init__(self, weights, threshold):\n",
    "        self.weights = weights\n",
    "        self.threshold = threshold\n",
    "\n",
    "    def activate(self, inputs):\n",
    "        # Calculate the weighted sum of the inputs\n",
    "        weighted_sum = sum(w * i for w, i in zip(self.weights, inputs))\n",
    "\n",
    "        # Apply the threshold to the weighted sum\n",
    "        # If the weighted sum exceeds the threshold, output 1, otherwise 0\n",
    "        output = 1 if weighted_sum >= self.threshold else 0\n",
    "        return output\n",
    "\n",
    "    def __repr__(self):\n",
    "        return f\"McCulloch-Pitts Neuron(weights={self.weights}, threshold={self.threshold})\"\n",
    "\n",
    "\n",
    "# Example usage:\n",
    "# Let's say we have a neuron with 2 inputs,\n",
    "# weights [2, -1], and a threshold of 1\n",
    "weights = [1, 1]\n",
    "threshold = 2\n",
    "\n",
    "# Instantiate the neuron\n",
    "neuron = McCullochPittsNeuron(weights, threshold)\n",
    "\n",
    "# Define the inputs\n",
    "inputs = [\n",
    "    [0, 0],\n",
    "    [0, 1],\n",
    "    [1, 0],\n",
    "    [1, 1]\n",
    "]\n",
    "\n",
    "# Calculate the outputs for different inputs and visualize the results\n",
    "outputs = [neuron.activate(inp) for inp in inputs]\n",
    "\n",
    "# Printing the neuron and the results\n",
    "print(neuron)\n",
    "for inp, out in zip(inputs, outputs):\n",
    "    print(f\"Input: {inp}, Output: {out}\")\n"
   ]
  }
 ],
 "metadata": {
  "kernelspec": {
   "display_name": "Python 3",
   "language": "python",
   "name": "python3"
  },
  "language_info": {
   "codemirror_mode": {
    "name": "ipython",
    "version": 3
   },
   "file_extension": ".py",
   "mimetype": "text/x-python",
   "name": "python",
   "nbconvert_exporter": "python",
   "pygments_lexer": "ipython3",
   "version": "3.10.6"
  }
 },
 "nbformat": 4,
 "nbformat_minor": 2
}
